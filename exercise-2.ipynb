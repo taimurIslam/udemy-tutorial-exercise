{
 "cells": [
  {
   "cell_type": "code",
   "execution_count": 1,
   "metadata": {
    "collapsed": true
   },
   "outputs": [],
   "source": [
    "import pandas as pd\n",
    "import tensorflow as tf"
   ]
  },
  {
   "cell_type": "code",
   "execution_count": 2,
   "metadata": {
    "collapsed": true
   },
   "outputs": [],
   "source": [
    "census = pd.read_csv('census_data.csv')"
   ]
  },
  {
   "cell_type": "code",
   "execution_count": 4,
   "metadata": {},
   "outputs": [
    {
     "data": {
      "text/html": [
       "<div>\n",
       "<style>\n",
       "    .dataframe thead tr:only-child th {\n",
       "        text-align: right;\n",
       "    }\n",
       "\n",
       "    .dataframe thead th {\n",
       "        text-align: left;\n",
       "    }\n",
       "\n",
       "    .dataframe tbody tr th {\n",
       "        vertical-align: top;\n",
       "    }\n",
       "</style>\n",
       "<table border=\"1\" class=\"dataframe\">\n",
       "  <thead>\n",
       "    <tr style=\"text-align: right;\">\n",
       "      <th></th>\n",
       "      <th>age</th>\n",
       "      <th>workclass</th>\n",
       "      <th>education</th>\n",
       "      <th>education_num</th>\n",
       "      <th>marital_status</th>\n",
       "      <th>occupation</th>\n",
       "      <th>relationship</th>\n",
       "      <th>race</th>\n",
       "      <th>gender</th>\n",
       "      <th>capital_gain</th>\n",
       "      <th>capital_loss</th>\n",
       "      <th>hours_per_week</th>\n",
       "      <th>native_country</th>\n",
       "      <th>income_bracket</th>\n",
       "    </tr>\n",
       "  </thead>\n",
       "  <tbody>\n",
       "    <tr>\n",
       "      <th>0</th>\n",
       "      <td>39</td>\n",
       "      <td>State-gov</td>\n",
       "      <td>Bachelors</td>\n",
       "      <td>13</td>\n",
       "      <td>Never-married</td>\n",
       "      <td>Adm-clerical</td>\n",
       "      <td>Not-in-family</td>\n",
       "      <td>White</td>\n",
       "      <td>Male</td>\n",
       "      <td>2174</td>\n",
       "      <td>0</td>\n",
       "      <td>40</td>\n",
       "      <td>United-States</td>\n",
       "      <td>&lt;=50K</td>\n",
       "    </tr>\n",
       "    <tr>\n",
       "      <th>1</th>\n",
       "      <td>50</td>\n",
       "      <td>Self-emp-not-inc</td>\n",
       "      <td>Bachelors</td>\n",
       "      <td>13</td>\n",
       "      <td>Married-civ-spouse</td>\n",
       "      <td>Exec-managerial</td>\n",
       "      <td>Husband</td>\n",
       "      <td>White</td>\n",
       "      <td>Male</td>\n",
       "      <td>0</td>\n",
       "      <td>0</td>\n",
       "      <td>13</td>\n",
       "      <td>United-States</td>\n",
       "      <td>&lt;=50K</td>\n",
       "    </tr>\n",
       "    <tr>\n",
       "      <th>2</th>\n",
       "      <td>38</td>\n",
       "      <td>Private</td>\n",
       "      <td>HS-grad</td>\n",
       "      <td>9</td>\n",
       "      <td>Divorced</td>\n",
       "      <td>Handlers-cleaners</td>\n",
       "      <td>Not-in-family</td>\n",
       "      <td>White</td>\n",
       "      <td>Male</td>\n",
       "      <td>0</td>\n",
       "      <td>0</td>\n",
       "      <td>40</td>\n",
       "      <td>United-States</td>\n",
       "      <td>&lt;=50K</td>\n",
       "    </tr>\n",
       "    <tr>\n",
       "      <th>3</th>\n",
       "      <td>53</td>\n",
       "      <td>Private</td>\n",
       "      <td>11th</td>\n",
       "      <td>7</td>\n",
       "      <td>Married-civ-spouse</td>\n",
       "      <td>Handlers-cleaners</td>\n",
       "      <td>Husband</td>\n",
       "      <td>Black</td>\n",
       "      <td>Male</td>\n",
       "      <td>0</td>\n",
       "      <td>0</td>\n",
       "      <td>40</td>\n",
       "      <td>United-States</td>\n",
       "      <td>&lt;=50K</td>\n",
       "    </tr>\n",
       "    <tr>\n",
       "      <th>4</th>\n",
       "      <td>28</td>\n",
       "      <td>Private</td>\n",
       "      <td>Bachelors</td>\n",
       "      <td>13</td>\n",
       "      <td>Married-civ-spouse</td>\n",
       "      <td>Prof-specialty</td>\n",
       "      <td>Wife</td>\n",
       "      <td>Black</td>\n",
       "      <td>Female</td>\n",
       "      <td>0</td>\n",
       "      <td>0</td>\n",
       "      <td>40</td>\n",
       "      <td>Cuba</td>\n",
       "      <td>&lt;=50K</td>\n",
       "    </tr>\n",
       "  </tbody>\n",
       "</table>\n",
       "</div>"
      ],
      "text/plain": [
       "   age          workclass   education  education_num       marital_status  \\\n",
       "0   39          State-gov   Bachelors             13        Never-married   \n",
       "1   50   Self-emp-not-inc   Bachelors             13   Married-civ-spouse   \n",
       "2   38            Private     HS-grad              9             Divorced   \n",
       "3   53            Private        11th              7   Married-civ-spouse   \n",
       "4   28            Private   Bachelors             13   Married-civ-spouse   \n",
       "\n",
       "           occupation    relationship    race   gender  capital_gain  \\\n",
       "0        Adm-clerical   Not-in-family   White     Male          2174   \n",
       "1     Exec-managerial         Husband   White     Male             0   \n",
       "2   Handlers-cleaners   Not-in-family   White     Male             0   \n",
       "3   Handlers-cleaners         Husband   Black     Male             0   \n",
       "4      Prof-specialty            Wife   Black   Female             0   \n",
       "\n",
       "   capital_loss  hours_per_week  native_country income_bracket  \n",
       "0             0              40   United-States          <=50K  \n",
       "1             0              13   United-States          <=50K  \n",
       "2             0              40   United-States          <=50K  \n",
       "3             0              40   United-States          <=50K  \n",
       "4             0              40            Cuba          <=50K  "
      ]
     },
     "execution_count": 4,
     "metadata": {},
     "output_type": "execute_result"
    }
   ],
   "source": [
    "census.head()"
   ]
  },
  {
   "cell_type": "code",
   "execution_count": 5,
   "metadata": {},
   "outputs": [
    {
     "data": {
      "text/plain": [
       "array([' <=50K', ' >50K'], dtype=object)"
      ]
     },
     "execution_count": 5,
     "metadata": {},
     "output_type": "execute_result"
    }
   ],
   "source": [
    "census['income_bracket'].unique()"
   ]
  },
  {
   "cell_type": "code",
   "execution_count": 6,
   "metadata": {
    "collapsed": true
   },
   "outputs": [],
   "source": [
    "def label_fix(label):\n",
    "    if label == ' <=50K':\n",
    "        return 0\n",
    "    else:\n",
    "        return 1"
   ]
  },
  {
   "cell_type": "code",
   "execution_count": 7,
   "metadata": {
    "collapsed": true
   },
   "outputs": [],
   "source": [
    "census['income_bracket'] = census['income_bracket'].apply(label_fix)"
   ]
  },
  {
   "cell_type": "code",
   "execution_count": 8,
   "metadata": {},
   "outputs": [
    {
     "data": {
      "text/html": [
       "<div>\n",
       "<style>\n",
       "    .dataframe thead tr:only-child th {\n",
       "        text-align: right;\n",
       "    }\n",
       "\n",
       "    .dataframe thead th {\n",
       "        text-align: left;\n",
       "    }\n",
       "\n",
       "    .dataframe tbody tr th {\n",
       "        vertical-align: top;\n",
       "    }\n",
       "</style>\n",
       "<table border=\"1\" class=\"dataframe\">\n",
       "  <thead>\n",
       "    <tr style=\"text-align: right;\">\n",
       "      <th></th>\n",
       "      <th>age</th>\n",
       "      <th>workclass</th>\n",
       "      <th>education</th>\n",
       "      <th>education_num</th>\n",
       "      <th>marital_status</th>\n",
       "      <th>occupation</th>\n",
       "      <th>relationship</th>\n",
       "      <th>race</th>\n",
       "      <th>gender</th>\n",
       "      <th>capital_gain</th>\n",
       "      <th>capital_loss</th>\n",
       "      <th>hours_per_week</th>\n",
       "      <th>native_country</th>\n",
       "      <th>income_bracket</th>\n",
       "    </tr>\n",
       "  </thead>\n",
       "  <tbody>\n",
       "    <tr>\n",
       "      <th>0</th>\n",
       "      <td>39</td>\n",
       "      <td>State-gov</td>\n",
       "      <td>Bachelors</td>\n",
       "      <td>13</td>\n",
       "      <td>Never-married</td>\n",
       "      <td>Adm-clerical</td>\n",
       "      <td>Not-in-family</td>\n",
       "      <td>White</td>\n",
       "      <td>Male</td>\n",
       "      <td>2174</td>\n",
       "      <td>0</td>\n",
       "      <td>40</td>\n",
       "      <td>United-States</td>\n",
       "      <td>0</td>\n",
       "    </tr>\n",
       "    <tr>\n",
       "      <th>1</th>\n",
       "      <td>50</td>\n",
       "      <td>Self-emp-not-inc</td>\n",
       "      <td>Bachelors</td>\n",
       "      <td>13</td>\n",
       "      <td>Married-civ-spouse</td>\n",
       "      <td>Exec-managerial</td>\n",
       "      <td>Husband</td>\n",
       "      <td>White</td>\n",
       "      <td>Male</td>\n",
       "      <td>0</td>\n",
       "      <td>0</td>\n",
       "      <td>13</td>\n",
       "      <td>United-States</td>\n",
       "      <td>0</td>\n",
       "    </tr>\n",
       "    <tr>\n",
       "      <th>2</th>\n",
       "      <td>38</td>\n",
       "      <td>Private</td>\n",
       "      <td>HS-grad</td>\n",
       "      <td>9</td>\n",
       "      <td>Divorced</td>\n",
       "      <td>Handlers-cleaners</td>\n",
       "      <td>Not-in-family</td>\n",
       "      <td>White</td>\n",
       "      <td>Male</td>\n",
       "      <td>0</td>\n",
       "      <td>0</td>\n",
       "      <td>40</td>\n",
       "      <td>United-States</td>\n",
       "      <td>0</td>\n",
       "    </tr>\n",
       "    <tr>\n",
       "      <th>3</th>\n",
       "      <td>53</td>\n",
       "      <td>Private</td>\n",
       "      <td>11th</td>\n",
       "      <td>7</td>\n",
       "      <td>Married-civ-spouse</td>\n",
       "      <td>Handlers-cleaners</td>\n",
       "      <td>Husband</td>\n",
       "      <td>Black</td>\n",
       "      <td>Male</td>\n",
       "      <td>0</td>\n",
       "      <td>0</td>\n",
       "      <td>40</td>\n",
       "      <td>United-States</td>\n",
       "      <td>0</td>\n",
       "    </tr>\n",
       "    <tr>\n",
       "      <th>4</th>\n",
       "      <td>28</td>\n",
       "      <td>Private</td>\n",
       "      <td>Bachelors</td>\n",
       "      <td>13</td>\n",
       "      <td>Married-civ-spouse</td>\n",
       "      <td>Prof-specialty</td>\n",
       "      <td>Wife</td>\n",
       "      <td>Black</td>\n",
       "      <td>Female</td>\n",
       "      <td>0</td>\n",
       "      <td>0</td>\n",
       "      <td>40</td>\n",
       "      <td>Cuba</td>\n",
       "      <td>0</td>\n",
       "    </tr>\n",
       "  </tbody>\n",
       "</table>\n",
       "</div>"
      ],
      "text/plain": [
       "   age          workclass   education  education_num       marital_status  \\\n",
       "0   39          State-gov   Bachelors             13        Never-married   \n",
       "1   50   Self-emp-not-inc   Bachelors             13   Married-civ-spouse   \n",
       "2   38            Private     HS-grad              9             Divorced   \n",
       "3   53            Private        11th              7   Married-civ-spouse   \n",
       "4   28            Private   Bachelors             13   Married-civ-spouse   \n",
       "\n",
       "           occupation    relationship    race   gender  capital_gain  \\\n",
       "0        Adm-clerical   Not-in-family   White     Male          2174   \n",
       "1     Exec-managerial         Husband   White     Male             0   \n",
       "2   Handlers-cleaners   Not-in-family   White     Male             0   \n",
       "3   Handlers-cleaners         Husband   Black     Male             0   \n",
       "4      Prof-specialty            Wife   Black   Female             0   \n",
       "\n",
       "   capital_loss  hours_per_week  native_country  income_bracket  \n",
       "0             0              40   United-States               0  \n",
       "1             0              13   United-States               0  \n",
       "2             0              40   United-States               0  \n",
       "3             0              40   United-States               0  \n",
       "4             0              40            Cuba               0  "
      ]
     },
     "execution_count": 8,
     "metadata": {},
     "output_type": "execute_result"
    }
   ],
   "source": [
    "census.head()"
   ]
  },
  {
   "cell_type": "code",
   "execution_count": 9,
   "metadata": {
    "collapsed": true
   },
   "outputs": [],
   "source": [
    "from sklearn.model_selection import train_test_split"
   ]
  },
  {
   "cell_type": "code",
   "execution_count": 10,
   "metadata": {
    "collapsed": true
   },
   "outputs": [],
   "source": [
    "x_data = census.drop('income_bracket', axis=1)"
   ]
  },
  {
   "cell_type": "code",
   "execution_count": 11,
   "metadata": {
    "collapsed": true
   },
   "outputs": [],
   "source": [
    "y_labels = census['income_bracket']"
   ]
  },
  {
   "cell_type": "code",
   "execution_count": 13,
   "metadata": {},
   "outputs": [],
   "source": [
    "x_train, x_test, y_train, y_test = train_test_split( x_data, y_labels, test_size=0.30, random_state=101)"
   ]
  },
  {
   "cell_type": "code",
   "execution_count": 14,
   "metadata": {},
   "outputs": [
    {
     "data": {
      "text/plain": [
       "Index(['age', 'workclass', 'education', 'education_num', 'marital_status',\n",
       "       'occupation', 'relationship', 'race', 'gender', 'capital_gain',\n",
       "       'capital_loss', 'hours_per_week', 'native_country', 'income_bracket'],\n",
       "      dtype='object')"
      ]
     },
     "execution_count": 14,
     "metadata": {},
     "output_type": "execute_result"
    }
   ],
   "source": [
    "census.columns"
   ]
  },
  {
   "cell_type": "code",
   "execution_count": 16,
   "metadata": {
    "collapsed": true
   },
   "outputs": [],
   "source": [
    "gender = tf.feature_column.categorical_column_with_vocabulary_list(\"gender\",['Female','Male'])\n",
    "\n",
    "occupation = tf.feature_column.categorical_column_with_hash_bucket(\"occupation\", hash_bucket_size=1000)\n",
    "marital_status = tf.feature_column.categorical_column_with_hash_bucket(\"marital_status\", hash_bucket_size=1000)\n",
    "relationship = tf.feature_column.categorical_column_with_hash_bucket(\"relationship\", hash_bucket_size=1000)\n",
    "education = tf.feature_column.categorical_column_with_hash_bucket(\"education\", hash_bucket_size=1000)\n",
    "workclass = tf.feature_column.categorical_column_with_hash_bucket(\"workclass\", hash_bucket_size=1000)\n",
    "native_country = tf.feature_column.categorical_column_with_hash_bucket(\"native_country\", hash_bucket_size=1000)\n"
   ]
  },
  {
   "cell_type": "code",
   "execution_count": 17,
   "metadata": {
    "collapsed": true
   },
   "outputs": [],
   "source": [
    "age = tf.feature_column.numeric_column(\"age\")\n",
    "education_num = tf.feature_column.numeric_column(\"education_num\")\n",
    "capital_gain = tf.feature_column.numeric_column(\"capital_gain\")\n",
    "capital_loss = tf.feature_column.numeric_column(\"capital_loss\")\n",
    "hours_per_week = tf.feature_column.numeric_column(\"hours_per_week\")"
   ]
  },
  {
   "cell_type": "code",
   "execution_count": 19,
   "metadata": {},
   "outputs": [],
   "source": [
    "feat_cols = [gender,occupation,marital_status,relationship,education,workclass,native_country,\n",
    "             age,education_num,capital_gain,capital_loss,hours_per_week]"
   ]
  },
  {
   "cell_type": "code",
   "execution_count": 20,
   "metadata": {
    "collapsed": true
   },
   "outputs": [],
   "source": [
    "input_func = tf.estimator.inputs.pandas_input_fn(x= x_train, y= y_train, batch_size=100,\n",
    "                                                num_epochs=None, shuffle = True)"
   ]
  },
  {
   "cell_type": "code",
   "execution_count": 21,
   "metadata": {},
   "outputs": [
    {
     "name": "stdout",
     "output_type": "stream",
     "text": [
      "INFO:tensorflow:Using default config.\n",
      "WARNING:tensorflow:Using temporary folder as model directory: C:\\Users\\ASUSPC~1\\AppData\\Local\\Temp\\tmp5rx_jd5j\n",
      "INFO:tensorflow:Using config: {'_model_dir': 'C:\\\\Users\\\\ASUSPC~1\\\\AppData\\\\Local\\\\Temp\\\\tmp5rx_jd5j', '_tf_random_seed': None, '_save_summary_steps': 100, '_save_checkpoints_steps': None, '_save_checkpoints_secs': 600, '_session_config': None, '_keep_checkpoint_max': 5, '_keep_checkpoint_every_n_hours': 10000, '_log_step_count_steps': 100, '_service': None, '_cluster_spec': <tensorflow.python.training.server_lib.ClusterSpec object at 0x000001E9640C5198>, '_task_type': 'worker', '_task_id': 0, '_master': '', '_is_chief': True, '_num_ps_replicas': 0, '_num_worker_replicas': 1}\n"
     ]
    }
   ],
   "source": [
    "model = tf.estimator.LinearClassifier(feature_columns=feat_cols)"
   ]
  },
  {
   "cell_type": "code",
   "execution_count": 22,
   "metadata": {},
   "outputs": [
    {
     "name": "stdout",
     "output_type": "stream",
     "text": [
      "INFO:tensorflow:Create CheckpointSaverHook.\n",
      "INFO:tensorflow:Saving checkpoints for 1 into C:\\Users\\ASUSPC~1\\AppData\\Local\\Temp\\tmp5rx_jd5j\\model.ckpt.\n",
      "INFO:tensorflow:loss = 69.3147, step = 1\n",
      "INFO:tensorflow:global_step/sec: 79.7086\n",
      "INFO:tensorflow:loss = 308.641, step = 101 (1.266 sec)\n",
      "INFO:tensorflow:global_step/sec: 111.658\n",
      "INFO:tensorflow:loss = 152.404, step = 201 (0.895 sec)\n",
      "INFO:tensorflow:global_step/sec: 111.931\n",
      "INFO:tensorflow:loss = 102.33, step = 301 (0.893 sec)\n",
      "INFO:tensorflow:global_step/sec: 112.648\n",
      "INFO:tensorflow:loss = 111.723, step = 401 (0.889 sec)\n",
      "INFO:tensorflow:global_step/sec: 133.128\n",
      "INFO:tensorflow:loss = 72.0134, step = 501 (0.749 sec)\n",
      "INFO:tensorflow:global_step/sec: 138.934\n",
      "INFO:tensorflow:loss = 132.467, step = 601 (0.717 sec)\n",
      "INFO:tensorflow:global_step/sec: 142.937\n",
      "INFO:tensorflow:loss = 72.6823, step = 701 (0.697 sec)\n",
      "INFO:tensorflow:global_step/sec: 184.477\n",
      "INFO:tensorflow:loss = 127.427, step = 801 (0.545 sec)\n",
      "INFO:tensorflow:global_step/sec: 197.084\n",
      "INFO:tensorflow:loss = 29.8586, step = 901 (0.511 sec)\n",
      "INFO:tensorflow:global_step/sec: 201.29\n",
      "INFO:tensorflow:loss = 25.9117, step = 1001 (0.492 sec)\n",
      "INFO:tensorflow:global_step/sec: 199.055\n",
      "INFO:tensorflow:loss = 88.7733, step = 1101 (0.503 sec)\n",
      "INFO:tensorflow:global_step/sec: 200.683\n",
      "INFO:tensorflow:loss = 54.4944, step = 1201 (0.498 sec)\n",
      "INFO:tensorflow:global_step/sec: 198.74\n",
      "INFO:tensorflow:loss = 82.263, step = 1301 (0.503 sec)\n",
      "INFO:tensorflow:global_step/sec: 223.603\n",
      "INFO:tensorflow:loss = 41.5622, step = 1401 (0.448 sec)\n",
      "INFO:tensorflow:global_step/sec: 205.215\n",
      "INFO:tensorflow:loss = 53.6994, step = 1501 (0.486 sec)\n",
      "INFO:tensorflow:global_step/sec: 226.962\n",
      "INFO:tensorflow:loss = 39.1078, step = 1601 (0.441 sec)\n",
      "INFO:tensorflow:global_step/sec: 225.122\n",
      "INFO:tensorflow:loss = 118.441, step = 1701 (0.444 sec)\n",
      "INFO:tensorflow:global_step/sec: 230.305\n",
      "INFO:tensorflow:loss = 252.078, step = 1801 (0.435 sec)\n",
      "INFO:tensorflow:global_step/sec: 226.822\n",
      "INFO:tensorflow:loss = 88.2597, step = 1901 (0.444 sec)\n",
      "INFO:tensorflow:global_step/sec: 225.641\n",
      "INFO:tensorflow:loss = 33.8612, step = 2001 (0.441 sec)\n",
      "INFO:tensorflow:global_step/sec: 224.163\n",
      "INFO:tensorflow:loss = 222.903, step = 2101 (0.445 sec)\n",
      "INFO:tensorflow:global_step/sec: 229.892\n",
      "INFO:tensorflow:loss = 77.9325, step = 2201 (0.434 sec)\n",
      "INFO:tensorflow:global_step/sec: 260.094\n",
      "INFO:tensorflow:loss = 38.4263, step = 2301 (0.385 sec)\n",
      "INFO:tensorflow:global_step/sec: 234.686\n",
      "INFO:tensorflow:loss = 127.18, step = 2401 (0.425 sec)\n",
      "INFO:tensorflow:global_step/sec: 264.605\n",
      "INFO:tensorflow:loss = 129.348, step = 2501 (0.377 sec)\n",
      "INFO:tensorflow:global_step/sec: 254.408\n",
      "INFO:tensorflow:loss = 297.574, step = 2601 (0.393 sec)\n",
      "INFO:tensorflow:global_step/sec: 295.93\n",
      "INFO:tensorflow:loss = 22.232, step = 2701 (0.339 sec)\n",
      "INFO:tensorflow:global_step/sec: 293.323\n",
      "INFO:tensorflow:loss = 159.003, step = 2801 (0.340 sec)\n",
      "INFO:tensorflow:global_step/sec: 311.652\n",
      "INFO:tensorflow:loss = 36.4422, step = 2901 (0.321 sec)\n",
      "INFO:tensorflow:global_step/sec: 305.916\n",
      "INFO:tensorflow:loss = 48.1987, step = 3001 (0.327 sec)\n",
      "INFO:tensorflow:global_step/sec: 344.214\n",
      "INFO:tensorflow:loss = 221.215, step = 3101 (0.290 sec)\n",
      "INFO:tensorflow:global_step/sec: 342.283\n",
      "INFO:tensorflow:loss = 72.9584, step = 3201 (0.292 sec)\n",
      "INFO:tensorflow:global_step/sec: 337.65\n",
      "INFO:tensorflow:loss = 36.4102, step = 3301 (0.298 sec)\n",
      "INFO:tensorflow:global_step/sec: 329.179\n",
      "INFO:tensorflow:loss = 30.3815, step = 3401 (0.301 sec)\n",
      "INFO:tensorflow:global_step/sec: 313.055\n",
      "INFO:tensorflow:loss = 42.9529, step = 3501 (0.318 sec)\n",
      "INFO:tensorflow:global_step/sec: 350.835\n",
      "INFO:tensorflow:loss = 131.343, step = 3601 (0.287 sec)\n",
      "INFO:tensorflow:global_step/sec: 322.339\n",
      "INFO:tensorflow:loss = 32.7292, step = 3701 (0.310 sec)\n",
      "INFO:tensorflow:global_step/sec: 313.424\n",
      "INFO:tensorflow:loss = 185.069, step = 3801 (0.319 sec)\n",
      "INFO:tensorflow:global_step/sec: 303.133\n",
      "INFO:tensorflow:loss = 78.1657, step = 3901 (0.330 sec)\n",
      "INFO:tensorflow:global_step/sec: 315.677\n",
      "INFO:tensorflow:loss = 42.4088, step = 4001 (0.317 sec)\n",
      "INFO:tensorflow:global_step/sec: 308.174\n",
      "INFO:tensorflow:loss = 91.3533, step = 4101 (0.323 sec)\n",
      "INFO:tensorflow:global_step/sec: 330.711\n",
      "INFO:tensorflow:loss = 133.441, step = 4201 (0.303 sec)\n",
      "INFO:tensorflow:global_step/sec: 322.193\n",
      "INFO:tensorflow:loss = 416.358, step = 4301 (0.310 sec)\n",
      "INFO:tensorflow:global_step/sec: 330.228\n",
      "INFO:tensorflow:loss = 60.375, step = 4401 (0.303 sec)\n",
      "INFO:tensorflow:global_step/sec: 300.927\n",
      "INFO:tensorflow:loss = 148.36, step = 4501 (0.332 sec)\n",
      "INFO:tensorflow:global_step/sec: 334.775\n",
      "INFO:tensorflow:loss = 46.3137, step = 4601 (0.302 sec)\n",
      "INFO:tensorflow:global_step/sec: 309.718\n",
      "INFO:tensorflow:loss = 49.1087, step = 4701 (0.320 sec)\n",
      "INFO:tensorflow:global_step/sec: 345.469\n",
      "INFO:tensorflow:loss = 80.0954, step = 4801 (0.289 sec)\n",
      "INFO:tensorflow:global_step/sec: 325.345\n",
      "INFO:tensorflow:loss = 44.7761, step = 4901 (0.307 sec)\n",
      "INFO:tensorflow:global_step/sec: 317.602\n",
      "INFO:tensorflow:loss = 53.3313, step = 5001 (0.315 sec)\n",
      "INFO:tensorflow:global_step/sec: 338.442\n",
      "INFO:tensorflow:loss = 29.1333, step = 5101 (0.295 sec)\n",
      "INFO:tensorflow:global_step/sec: 339.694\n",
      "INFO:tensorflow:loss = 322.078, step = 5201 (0.294 sec)\n",
      "INFO:tensorflow:global_step/sec: 343.13\n",
      "INFO:tensorflow:loss = 45.8809, step = 5301 (0.291 sec)\n",
      "INFO:tensorflow:global_step/sec: 344.268\n",
      "INFO:tensorflow:loss = 46.7209, step = 5401 (0.290 sec)\n",
      "INFO:tensorflow:global_step/sec: 338.757\n",
      "INFO:tensorflow:loss = 29.6913, step = 5501 (0.296 sec)\n",
      "INFO:tensorflow:global_step/sec: 345.465\n",
      "INFO:tensorflow:loss = 34.759, step = 5601 (0.288 sec)\n",
      "INFO:tensorflow:global_step/sec: 340.956\n",
      "INFO:tensorflow:loss = 75.8135, step = 5701 (0.293 sec)\n",
      "INFO:tensorflow:global_step/sec: 338.844\n",
      "INFO:tensorflow:loss = 32.0992, step = 5801 (0.296 sec)\n",
      "INFO:tensorflow:global_step/sec: 318.065\n",
      "INFO:tensorflow:loss = 34.355, step = 5901 (0.315 sec)\n",
      "INFO:tensorflow:global_step/sec: 332.434\n",
      "INFO:tensorflow:loss = 75.7187, step = 6001 (0.299 sec)\n",
      "INFO:tensorflow:global_step/sec: 317.302\n",
      "INFO:tensorflow:loss = 116.917, step = 6101 (0.318 sec)\n",
      "INFO:tensorflow:global_step/sec: 328.113\n",
      "INFO:tensorflow:loss = 34.0285, step = 6201 (0.303 sec)\n",
      "INFO:tensorflow:global_step/sec: 305.359\n",
      "INFO:tensorflow:loss = 39.6258, step = 6301 (0.329 sec)\n",
      "INFO:tensorflow:global_step/sec: 306.118\n",
      "INFO:tensorflow:loss = 26.9513, step = 6401 (0.326 sec)\n",
      "INFO:tensorflow:global_step/sec: 321.701\n",
      "INFO:tensorflow:loss = 35.3922, step = 6501 (0.312 sec)\n",
      "INFO:tensorflow:global_step/sec: 333.84\n",
      "INFO:tensorflow:loss = 70.7266, step = 6601 (0.298 sec)\n",
      "INFO:tensorflow:global_step/sec: 350.545\n",
      "INFO:tensorflow:loss = 167.064, step = 6701 (0.285 sec)\n",
      "INFO:tensorflow:global_step/sec: 341.757\n",
      "INFO:tensorflow:loss = 72.4395, step = 6801 (0.293 sec)\n",
      "INFO:tensorflow:global_step/sec: 344.177\n",
      "INFO:tensorflow:loss = 32.4431, step = 6901 (0.291 sec)\n",
      "INFO:tensorflow:global_step/sec: 320.89\n",
      "INFO:tensorflow:loss = 36.7604, step = 7001 (0.313 sec)\n",
      "INFO:tensorflow:global_step/sec: 329.142\n",
      "INFO:tensorflow:loss = 213.744, step = 7101 (0.302 sec)\n",
      "INFO:tensorflow:global_step/sec: 348.341\n",
      "INFO:tensorflow:loss = 207.303, step = 7201 (0.287 sec)\n",
      "INFO:tensorflow:global_step/sec: 373.863\n",
      "INFO:tensorflow:loss = 199.221, step = 7301 (0.267 sec)\n",
      "INFO:tensorflow:global_step/sec: 355.434\n",
      "INFO:tensorflow:loss = 27.1935, step = 7401 (0.282 sec)\n",
      "INFO:tensorflow:global_step/sec: 376.981\n",
      "INFO:tensorflow:loss = 44.9916, step = 7501 (0.265 sec)\n",
      "INFO:tensorflow:global_step/sec: 341.538\n",
      "INFO:tensorflow:loss = 41.8387, step = 7601 (0.291 sec)\n",
      "INFO:tensorflow:global_step/sec: 368.139\n",
      "INFO:tensorflow:loss = 39.7303, step = 7701 (0.272 sec)\n",
      "INFO:tensorflow:global_step/sec: 366.643\n",
      "INFO:tensorflow:loss = 31.9501, step = 7801 (0.275 sec)\n",
      "INFO:tensorflow:global_step/sec: 407.061\n",
      "INFO:tensorflow:loss = 76.1355, step = 7901 (0.246 sec)\n",
      "INFO:tensorflow:global_step/sec: 396.514\n",
      "INFO:tensorflow:loss = 34.4653, step = 8001 (0.252 sec)\n",
      "INFO:tensorflow:global_step/sec: 389.029\n",
      "INFO:tensorflow:loss = 26.4578, step = 8101 (0.257 sec)\n",
      "INFO:tensorflow:global_step/sec: 405.401\n",
      "INFO:tensorflow:loss = 42.7805, step = 8201 (0.248 sec)\n",
      "INFO:tensorflow:global_step/sec: 395.754\n",
      "INFO:tensorflow:loss = 49.919, step = 8301 (0.253 sec)\n"
     ]
    },
    {
     "name": "stdout",
     "output_type": "stream",
     "text": [
      "INFO:tensorflow:global_step/sec: 361.331\n",
      "INFO:tensorflow:loss = 31.5711, step = 8401 (0.276 sec)\n",
      "INFO:tensorflow:global_step/sec: 397.683\n",
      "INFO:tensorflow:loss = 76.188, step = 8501 (0.251 sec)\n",
      "INFO:tensorflow:global_step/sec: 373.505\n",
      "INFO:tensorflow:loss = 41.819, step = 8601 (0.268 sec)\n",
      "INFO:tensorflow:global_step/sec: 405.261\n",
      "INFO:tensorflow:loss = 39.5246, step = 8701 (0.247 sec)\n",
      "INFO:tensorflow:global_step/sec: 383.153\n",
      "INFO:tensorflow:loss = 29.18, step = 8801 (0.261 sec)\n",
      "INFO:tensorflow:global_step/sec: 403.709\n",
      "INFO:tensorflow:loss = 38.8289, step = 8901 (0.247 sec)\n",
      "INFO:tensorflow:global_step/sec: 373.502\n",
      "INFO:tensorflow:loss = 27.7925, step = 9001 (0.268 sec)\n",
      "INFO:tensorflow:global_step/sec: 405.505\n",
      "INFO:tensorflow:loss = 25.6331, step = 9101 (0.248 sec)\n",
      "INFO:tensorflow:global_step/sec: 379.203\n",
      "INFO:tensorflow:loss = 41.6196, step = 9201 (0.263 sec)\n",
      "INFO:tensorflow:global_step/sec: 407.73\n",
      "INFO:tensorflow:loss = 31.8277, step = 9301 (0.245 sec)\n",
      "INFO:tensorflow:global_step/sec: 398.898\n",
      "INFO:tensorflow:loss = 50.5794, step = 9401 (0.250 sec)\n",
      "INFO:tensorflow:global_step/sec: 398.17\n",
      "INFO:tensorflow:loss = 155.994, step = 9501 (0.252 sec)\n",
      "INFO:tensorflow:global_step/sec: 396.533\n",
      "INFO:tensorflow:loss = 36.0257, step = 9601 (0.252 sec)\n",
      "INFO:tensorflow:global_step/sec: 401.393\n",
      "INFO:tensorflow:loss = 99.5266, step = 9701 (0.249 sec)\n",
      "INFO:tensorflow:global_step/sec: 404.03\n",
      "INFO:tensorflow:loss = 33.433, step = 9801 (0.248 sec)\n",
      "INFO:tensorflow:global_step/sec: 405.965\n",
      "INFO:tensorflow:loss = 28.4416, step = 9901 (0.247 sec)\n",
      "INFO:tensorflow:Saving checkpoints for 10000 into C:\\Users\\ASUSPC~1\\AppData\\Local\\Temp\\tmp5rx_jd5j\\model.ckpt.\n",
      "INFO:tensorflow:Loss for final step: 50.6479.\n"
     ]
    },
    {
     "data": {
      "text/plain": [
       "<tensorflow.python.estimator.canned.linear.LinearClassifier at 0x1e96ceff6a0>"
      ]
     },
     "execution_count": 22,
     "metadata": {},
     "output_type": "execute_result"
    }
   ],
   "source": [
    "model.train(input_fn=input_func, steps=10000)"
   ]
  },
  {
   "cell_type": "code",
   "execution_count": 23,
   "metadata": {
    "collapsed": true
   },
   "outputs": [],
   "source": [
    "pred_fn = tf.estimator.inputs.pandas_input_fn(x= x_test,batch_size=len(x_test),shuffle = False)"
   ]
  },
  {
   "cell_type": "code",
   "execution_count": 25,
   "metadata": {},
   "outputs": [],
   "source": [
    "pred_gen = model.predict(input_fn=pred_fn)"
   ]
  },
  {
   "cell_type": "code",
   "execution_count": 26,
   "metadata": {},
   "outputs": [
    {
     "name": "stdout",
     "output_type": "stream",
     "text": [
      "INFO:tensorflow:Restoring parameters from C:\\Users\\ASUSPC~1\\AppData\\Local\\Temp\\tmp5rx_jd5j\\model.ckpt-10000\n"
     ]
    }
   ],
   "source": [
    "prediction = list(pred_gen)"
   ]
  },
  {
   "cell_type": "code",
   "execution_count": null,
   "metadata": {
    "collapsed": true
   },
   "outputs": [],
   "source": []
  }
 ],
 "metadata": {
  "kernelspec": {
   "display_name": "Python 3",
   "language": "python",
   "name": "python3"
  },
  "language_info": {
   "codemirror_mode": {
    "name": "ipython",
    "version": 3
   },
   "file_extension": ".py",
   "mimetype": "text/x-python",
   "name": "python",
   "nbconvert_exporter": "python",
   "pygments_lexer": "ipython3",
   "version": "3.6.1"
  }
 },
 "nbformat": 4,
 "nbformat_minor": 2
}
